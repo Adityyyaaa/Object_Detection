{
  "nbformat": 4,
  "nbformat_minor": 0,
  "metadata": {
    "colab": {
      "name": "ObjectDetection.ipynb",
      "provenance": [],
      "collapsed_sections": []
    },
    "kernelspec": {
      "name": "python3",
      "display_name": "Python 3"
    },
    "language_info": {
      "name": "python"
    },
    "accelerator": "GPU"
  },
  "cells": [
    {
      "cell_type": "code",
      "execution_count": 12,
      "metadata": {
        "id": "uU6dFT0qokkh"
      },
      "outputs": [],
      "source": [
        "import cv2\n",
        "import matplotlib.pyplot as plt\n",
        "import numpy as np\n",
        "import argparse\n",
        "import time\n",
        "import numba\n",
        "from numba import cuda"
      ]
    },
    {
      "cell_type": "code",
      "source": [
        "from google.colab import drive\n",
        "drive.mount('/content/drive')"
      ],
      "metadata": {
        "colab": {
          "base_uri": "https://localhost:8080/"
        },
        "id": "IoGdMWZ5pCWo",
        "outputId": "8ba6162e-a00c-4374-88c3-9c94d3e55069"
      },
      "execution_count": 2,
      "outputs": [
        {
          "output_type": "stream",
          "name": "stdout",
          "text": [
            "Mounted at /content/drive\n"
          ]
        }
      ]
    },
    {
      "cell_type": "code",
      "source": [
        "# Model Loading \n",
        "def load_yolo():\n",
        "\n",
        "    # Loading the weights and configuration files\n",
        "    net = cv2.dnn.readNet(\"/content/drive/MyDrive/Colab Notebooks/Object_Detection/yolov3.weights\", \"/content/drive/MyDrive/Colab Notebooks/Object_Detection/yolov3.cfg\")\n",
        "\n",
        "    # Creating a list of class names\n",
        "    classes = []\n",
        "    with open(\"/content/drive/MyDrive/Colab Notebooks/Object_Detection/coco.names\", \"r\") as f:\n",
        "        classes = [line.strip() for line in f.readlines()]\n",
        "\n",
        "    # Getting the names of the layers of YOLOv3\n",
        "    layer_names = net.getLayerNames()\n",
        "    output_layers = [layer_names[i - 1] for i in net.getUnconnectedOutLayers()]\n",
        "\n",
        "    colors = np.random.uniform(0, 255, size = (len(classes), 3))   \n",
        "\n",
        "    return net, classes, colors, output_layers"
      ],
      "metadata": {
        "id": "sRwyT10-plZB"
      },
      "execution_count": 3,
      "outputs": []
    },
    {
      "cell_type": "code",
      "source": [
        "def load_image(img_path):\n",
        "\t# image loading\n",
        "\timg = cv2.imread(img_path)\n",
        "\timg = cv2.resize(img, None, fx=0.4, fy=0.4)\n",
        "\theight, width, channels = img.shape\n",
        "\treturn img, height, width, channels"
      ],
      "metadata": {
        "id": "m_DsDazRp88f"
      },
      "execution_count": 4,
      "outputs": []
    },
    {
      "cell_type": "code",
      "source": [
        "# 1. Preprocess the image by setting the resolution of the image to a fixed size of 320 px by 320 px and scaling the RGB values from (0, 255) to (0, 1)\n",
        "# 2. Pass the image (blob) forward through the network and receive the information in a (n x 85) matrix (n is the number of grid cells)\n",
        "def detect_objects(path, net, output_layers):\n",
        "\tblob = cv2.dnn.blobFromImage(path, scalefactor = 0.00392, size = (320, 320), mean = (0, 0, 0), swapRB = True, crop = False)\n",
        "\tnet.setInput(blob)\n",
        "\toutputs = net.forward(output_layers)\n",
        "\treturn blob, outputs"
      ],
      "metadata": {
        "id": "zopjz-aBqzgz"
      },
      "execution_count": 5,
      "outputs": []
    },
    {
      "cell_type": "code",
      "source": [
        "# Extract the box dimensions from the output of the network\n",
        "def get_box_dimensions(outputs, height, width):\n",
        "\tboxes = []\n",
        "\tconfidence = []\n",
        "\tclass_ids = []\n",
        "\n",
        "\tfor output in outputs:\n",
        "\t\tfor detect in output:\n",
        "\t\t\tscores = detect[5:]\n",
        "\t\t\t#print(scores)\n",
        "\t\t\tclass_id = np.argmax(scores)\n",
        "\t\t\tconf = scores[class_id]\n",
        "\t\t\tif conf > 0.3:\n",
        "\t\t\t\tc_x = int(detect[0] * width)\n",
        "\t\t\t\tc_y = int(detect[1] * height)\n",
        "\t\t\t\tw = int(detect[2] * width)\n",
        "\t\t\t\th = int(detect[3] * height)\n",
        "\t\t\t\tx = int(c_x - (w / 2))\n",
        "\t\t\t\ty = int(c_y - (h / 2))\n",
        "\t\t\t\tboxes.append([x, y, w, h])\n",
        "\t\t\t\tconfidence.append(conf)\n",
        "\t\t\t\tclass_ids.append(class_id)\n",
        "\n",
        "\treturn boxes, confidence, class_ids"
      ],
      "metadata": {
        "id": "bXUbcmDfq17M"
      },
      "execution_count": 6,
      "outputs": []
    },
    {
      "cell_type": "code",
      "source": [
        "# Draw labels and label name on the selected boxes after Non-Maximum Suppression\n",
        "def draw_labels(boxes, confidence, colors, class_ids, classes, path):\n",
        "\tindices = cv2.dnn.NMSBoxes(boxes, confidence, 0.5, 0.4)\n",
        "\tfont = cv2.FONT_HERSHEY_PLAIN\n",
        "\t\n",
        "\tfor i in range(len(boxes)):\n",
        "\t\tif i in indices:\n",
        "\t\t\tx, y, w, h = boxes[i]\n",
        "\t\t\tlabel = classes[class_ids[i]]\n",
        "\t\t\tconf = confidence[i]\n",
        "\t\t\tcolor = colors[i]\n",
        "\t\t\tcv2.rectangle(path, (x, y), (x + w, y + h), color, 2)\n",
        "\t\t\tcv2.putText(path, label, (x, y - 10), font, 1, color, 1)\n",
        "\n",
        "\tcv2.imshow(\"Video\", path)\n"
      ],
      "metadata": {
        "id": "f34JAUA6q_MG"
      },
      "execution_count": 7,
      "outputs": []
    },
    {
      "cell_type": "code",
      "source": [
        "def image_detect(path):\n",
        "\tmodel, classes, colors, output_layers = load_yolo()\n",
        "\tvideo, height, width, channels = load_image(path)\n",
        "\tblobs, outputs = detect_objects(video, model, output_layers)\n",
        "\tboxes, confidence, class_ids = get_box_dimensions(outputs, height, width)\n",
        "\tdraw_labels(boxes, confidence, colors, class_ids, classes, video)\n",
        "\n",
        "\twhile True:\n",
        "\t\tkey = cv2.waitKey(1)\n",
        "\t\tif key == 27:\n",
        "\t\t\tbreak\n",
        "\t\tcv2.destroyAllWindows()"
      ],
      "metadata": {
        "id": "rtsZbQI4rINI"
      },
      "execution_count": 8,
      "outputs": []
    },
    {
      "cell_type": "code",
      "source": [
        "# Detecting objects using webcam live\n",
        "def webcam_detect():\n",
        "\tmodel, classes, colors, output_layers = load_yolo()\n",
        "\tcap = cv2.VideoCapture(0)\n",
        "\twhile True:\n",
        "\t\t_, frame = cap.read()\n",
        "\t\theight, width, channels = frame.shape\n",
        "\t\tblob, outputs = detect_objects(frame, model, output_layers)\n",
        "\t\tboxes, confs, class_ids = get_box_dimensions(outputs, height, width)\n",
        "\t\tdraw_labels(boxes, confs, colors, class_ids, classes, frame)\n",
        "\t\tkey = cv2.waitKey(1)\n",
        "\t\tif key == 27:\n",
        "\t\t\tbreak\n",
        "\tcap.release()\n"
      ],
      "metadata": {
        "id": "w32Xsth-rJqE"
      },
      "execution_count": 9,
      "outputs": []
    },
    {
      "cell_type": "code",
      "source": [
        "# Detecting objects in a video\n",
        "def start_video(video_path = \"./drive/MyDrive/Colab Notebooks/Object_Detection/Test_Train Video/traffic.mp4\"):\n",
        "\tmodel, classes, colors, output_layers = load_yolo()\n",
        "\tcap = cv2.VideoCapture(video_path)\n",
        "\twhile True:\n",
        "\t\t_, frame = cap.read()\n",
        "\t\theight, width, channels = frame.shape\n",
        "\t\tblob, outputs = detect_objects(frame, model, output_layers)\n",
        "\t\tboxes, confs, class_ids = get_box_dimensions(outputs, height, width)\n",
        "\t\tdraw_labels(boxes, confs, colors, class_ids, classes, frame)\n",
        "\t\tkey = cv2.waitKey(1)\n",
        "\t\tif key == 27:\n",
        "\t\t\tbreak\n",
        "\tcap.release()"
      ],
      "metadata": {
        "id": "M_j-5O63rQuQ"
      },
      "execution_count": 10,
      "outputs": []
    },
    {
      "cell_type": "code",
      "source": [
        "if __name__ == '__main__':\n",
        "\tvideo_path = \"./drive/MyDrive/Colab Notebooks/Object_Detection/Test_Train Video/traffic.mp4\"\n",
        "\tstart_video(video_path)\n",
        "\n",
        "\tcv2.destroyAllWindows()\n"
      ],
      "metadata": {
        "id": "jiIEonIVvOKZ"
      },
      "execution_count": 11,
      "outputs": []
    },
    {
      "cell_type": "code",
      "source": [
        ""
      ],
      "metadata": {
        "id": "eWeeRJRTy9R9"
      },
      "execution_count": null,
      "outputs": []
    }
  ]
}