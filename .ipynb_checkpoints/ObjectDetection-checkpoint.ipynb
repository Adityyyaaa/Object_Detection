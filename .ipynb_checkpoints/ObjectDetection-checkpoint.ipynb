{
 "cells": [
  {
   "cell_type": "code",
   "execution_count": 12,
   "metadata": {
    "id": "uU6dFT0qokkh"
   },
   "outputs": [],
   "source": [
    "import time\n",
    "import numba\n",
    "from numba import cuda\n",
    "import cv2\n",
    "import matplotlib.pyplot as plt\n",
    "import numpy as np\n",
    "import argparse\n",
    "import matplotlib.pyplot as plt"
   ]
  },
  {
   "cell_type": "code",
   "execution_count": 2,
   "metadata": {
    "colab": {
     "base_uri": "https://localhost:8080/"
    },
    "id": "IoGdMWZ5pCWo",
    "outputId": "8ba6162e-a00c-4374-88c3-9c94d3e55069"
   },
   "outputs": [
    {
     "name": "stdout",
     "output_type": "stream",
     "text": [
      "Mounted at /content/drive\n"
     ]
    }
   ],
   "source": [
    "from google.colab import drive\n",
    "drive.mount('/content/drive')"
   ]
  },
  {
   "cell_type": "code",
   "execution_count": 3,
   "metadata": {
    "id": "sRwyT10-plZB"
   },
   "outputs": [],
   "source": [
    "#The model prepared is being loaded\n",
    "def loading_yolo():\n",
    "\n",
    "    # Weight loading\n",
    "    net = cv2.dnn.readNet(\"/content/drive/MyDrive/Colab Notebooks/Object_Detection/yolov3.weights\", \"/content/drive/MyDrive/Colab Notebooks/Object_Detection/yolov3.cfg\")\n",
    "\n",
    "    #Creating class names\n",
    "    classes = []\n",
    "    with open(\"/content/drive/MyDrive/Colab Notebooks/Object_Detection/coco.names\", \"r\") as f:\n",
    "        classes = [line.strip() for line in f.readlines()]\n",
    "\n",
    "    #Generating the layer names\n",
    "    layer_names = net.getLayerNames()\n",
    "    output_layers = [layer_names[i - 1] for i in net.getUnconnectedOutLayers()]\n",
    "    # Using the standard way to get out the two things\n",
    "\n",
    "    colors = np.random.uniform(0, 255, size = (len(classes), 3))   \n",
    "\n",
    "    return net, classes, colors, output_layers"
   ]
  },
  {
   "cell_type": "code",
   "execution_count": 4,
   "metadata": {
    "id": "m_DsDazRp88f"
   },
   "outputs": [],
   "source": [
    "#The image used for detection will be loaded after calling of this function\n",
    "def loading_image(img_path):\n",
    "\timg = cv2.imread(img_path)\n",
    "\timg = cv2.resize(img, None, fx=0.39, fy=0.39)\n",
    "\theight, width, channels = img.shape\n",
    "\treturn img, height, width, channels"
   ]
  },
  {
   "cell_type": "code",
   "execution_count": 5,
   "metadata": {
    "id": "zopjz-aBqzgz"
   },
   "outputs": [],
   "source": [
    "# 1. Preprocessing image by scaling it\n",
    "# 2. We will now pass the information further to get the information in the matrix\n",
    "def detect_objects(path, net, output_layers):\n",
    "\tblob = cv2.dnn.blobFromImage(path, scalefactor = 0.00392, size = (320, 320), mean = (0, 0, 0), swapRB = True, crop = False)\n",
    "\tnet.setInput(blob)\n",
    "\toutputs = net.forward(output_layers)\n",
    "\treturn blob, outputs"
   ]
  },
  {
   "cell_type": "code",
   "execution_count": 6,
   "metadata": {
    "id": "bXUbcmDfq17M"
   },
   "outputs": [],
   "source": [
    "# Now we will get the box dimesions from the network generated\n",
    "def get_box_dimensions(outputs, height, width):\n",
    "\tboxes = []\n",
    "\tconfidence = []\n",
    "\tclass_ids = []\n",
    "\n",
    "\tfor output in outputs:\n",
    "\t\tfor detect in output:\n",
    "\t\t\tscores = detect[5:]\n",
    "\t\t\t#print(scores)\n",
    "\t\t\tclass_id = np.argmax(scores)\n",
    "\t\t\tconf = scores[class_id]\n",
    "\t\t\tif conf > 0.3:\n",
    "\t\t\t\tc_x = int(detect[0] * width)\n",
    "\t\t\t\tc_y = int(detect[1] * height)\n",
    "\t\t\t\tw = int(detect[2] * width)\n",
    "\t\t\t\th = int(detect[3] * height)\n",
    "\t\t\t\tx = int(c_x - (w / 2))\n",
    "\t\t\t\ty = int(c_y - (h / 2))\n",
    "\t\t\t\tboxes.append([x, y, w, h])\n",
    "\t\t\t\tconfidence.append(conf)\n",
    "\t\t\t\tclass_ids.append(class_id)\n",
    "\n",
    "\treturn boxes, confidence, class_ids"
   ]
  },
  {
   "cell_type": "code",
   "execution_count": 7,
   "metadata": {
    "id": "f34JAUA6q_MG"
   },
   "outputs": [],
   "source": [
    "#Now we will give the required labels\n",
    "def draw_labels(boxes, confidence, colors, class_ids, classes, path):\n",
    "\tindices = cv2.dnn.NMSBoxes(boxes, confidence, 0.5, 0.4)\n",
    "\tfont = cv2.FONT_HERSHEY_PLAIN\n",
    "\t\n",
    "\tfor i in range(len(boxes)):\n",
    "\t\tif i in indices:\n",
    "\t\t\tx, y, w, h = boxes[i]\n",
    "\t\t\tlabel = classes[class_ids[i]]\n",
    "\t\t\tconf = confidence[i]\n",
    "\t\t\tcolor = colors[i]\n",
    "\t\t\tcv2.rectangle(path, (x, y), (x + w, y + h), color, 2)\n",
    "\t\t\tcv2.putText(path, label, (x, y - 10), font, 1, color, 1)\n",
    "\n",
    "\tcv2.imshow(\"Video\", path)\n"
   ]
  },
  {
   "cell_type": "code",
   "execution_count": 8,
   "metadata": {
    "id": "rtsZbQI4rINI"
   },
   "outputs": [],
   "source": [
    "# Detection of the objects present in the images\n",
    "def image_detect(path):\n",
    "\tmodel, classes, colors, output_layers = loading_yolo()\n",
    "\tvideo, height, width, channels = loading_image(path)\n",
    "\tblobs, outputs = detect_objects(video, model, output_layers)\n",
    "\tboxes, confidence, class_ids = get_box_dimensions(outputs, height, width)\n",
    "\tdraw_labels(boxes, confidence, colors, class_ids, classes, video)\n",
    "\n",
    "\twhile True:\n",
    "\t\tkey = cv2.waitKey(1)\n",
    "\t\tif key == 27:\n",
    "\t\t\tbreak\n",
    "\t\tcv2.destroyAllWindows()"
   ]
  },
  {
   "cell_type": "code",
   "execution_count": 9,
   "metadata": {
    "id": "w32Xsth-rJqE"
   },
   "outputs": [],
   "source": [
    "# Detection of the objects from the WebCam feed\n",
    "def webcam_detect():\n",
    "\tmodel, classes, colors, output_layers = load_yolo()\n",
    "\tcap = cv2.VideoCapture(0)\n",
    "\twhile True:\n",
    "\t\t_, frame = cap.read()\n",
    "\t\theight, width, channels = frame.shape\n",
    "\t\tblob, outputs = detect_objects(frame, model, output_layers)\n",
    "\t\tboxes, confs, class_ids = get_box_dimensions(outputs, height, width)\n",
    "\t\tdraw_labels(boxes, confs, colors, class_ids, classes, frame)\n",
    "\t\tkey = cv2.waitKey(1)\n",
    "\t\tif key == 27:\n",
    "\t\t\tbreak\n",
    "\tcap.release()\n"
   ]
  },
  {
   "cell_type": "code",
   "execution_count": 10,
   "metadata": {
    "id": "M_j-5O63rQuQ"
   },
   "outputs": [],
   "source": [
    "# Detection of the objects present in the videos\n",
    "def start_video(video_path = \"./drive/MyDrive/Colab Notebooks/Object_Detection/Test_Train Video/traffic.mp4\"):\n",
    "\tmodel, classes, colors, output_layers = loading_yolo()\n",
    "\tcap = cv2.VideoCapture(video_path)\n",
    "\twhile True:\n",
    "\t\t_, frame = cap.read()\n",
    "\t\theight, width, channels = frame.shape\n",
    "\t\tblob, outputs = detect_objects(frame, model, output_layers)\n",
    "\t\tboxes, confs, class_ids = get_box_dimensions(outputs, height, width)\n",
    "\t\tdraw_labels(boxes, confs, colors, class_ids, classes, frame)\n",
    "\t\tkey = cv2.waitKey(1)\n",
    "\t\tif key == 27:\n",
    "\t\t\tbreak\n",
    "\tcap.release()"
   ]
  },
  {
   "cell_type": "code",
   "execution_count": 11,
   "metadata": {
    "id": "jiIEonIVvOKZ"
   },
   "outputs": [],
   "source": [
    "if __name__ == '__main__':\n",
    "\tvideo_path = \"./drive/MyDrive/Colab Notebooks/Object_Detection/Test_Train Video/traffic.mp4\"\n",
    "\tstart_video(video_path)\n",
    "\n",
    "\tcv2.destroyAllWindows()\n"
   ]
  },
  {
   "cell_type": "code",
   "execution_count": null,
   "metadata": {
    "id": "eWeeRJRTy9R9"
   },
   "outputs": [],
   "source": []
  }
 ],
 "metadata": {
  "accelerator": "GPU",
  "colab": {
   "collapsed_sections": [],
   "name": "ObjectDetection.ipynb",
   "provenance": []
  },
  "kernelspec": {
   "display_name": "Python 3",
   "language": "python",
   "name": "python3"
  },
  "language_info": {
   "codemirror_mode": {
    "name": "ipython",
    "version": 3
   },
   "file_extension": ".py",
   "mimetype": "text/x-python",
   "name": "python",
   "nbconvert_exporter": "python",
   "pygments_lexer": "ipython3",
   "version": "3.7.3"
  }
 },
 "nbformat": 4,
 "nbformat_minor": 1
}
